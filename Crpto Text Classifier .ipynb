{
 "cells": [
  {
   "cell_type": "code",
   "execution_count": 1,
   "id": "6e8b56bc",
   "metadata": {},
   "outputs": [
    {
     "name": "stderr",
     "output_type": "stream",
     "text": [
      "C:\\Users\\Faraz\\AppData\\Local\\Programs\\Python\\Python310\\lib\\site-packages\\scipy\\__init__.py:146: UserWarning: A NumPy version >=1.16.5 and <1.23.0 is required for this version of SciPy (detected version 1.25.2\n",
      "  warnings.warn(f\"A NumPy version >={np_minversion} and <{np_maxversion}\"\n"
     ]
    }
   ],
   "source": [
    "import numpy as np\n",
    "from transformers import pipeline, AutoModelForSequenceClassification, AutoTokenizer"
   ]
  },
  {
   "cell_type": "code",
   "execution_count": 2,
   "id": "a184abc5",
   "metadata": {},
   "outputs": [
    {
     "name": "stderr",
     "output_type": "stream",
     "text": [
      "Some weights of DistilBertForSequenceClassification were not initialized from the model checkpoint at distilbert-base-uncased and are newly initialized: ['classifier.weight', 'pre_classifier.weight', 'classifier.bias', 'pre_classifier.bias']\n",
      "You should probably TRAIN this model on a down-stream task to be able to use it for predictions and inference.\n"
     ]
    }
   ],
   "source": [
    "model_name = \"distilbert-base-uncased\"\n",
    "model = AutoModelForSequenceClassification.from_pretrained(model_name)\n",
    "tokenizer = AutoTokenizer.from_pretrained(model_name)"
   ]
  },
  {
   "cell_type": "code",
   "execution_count": 3,
   "id": "87c09b26",
   "metadata": {},
   "outputs": [],
   "source": [
    "crypto = \"\"\"Binance had 5.6 million China-based users as of May, of which 911,650 were active, according to Mission Control. Overall, the crypto exchange has a total of over 128 million users. As of January, the WSJ said about 100,000 Chinese users at Binance were classified as \"politically exposed persons\" (PEPs), citing internal company documents and a former employee. PEPs are individuals who hold influential positions in government offices or have close associations with such individuals. Traditional financial institutions often subject PEPs to enhanced scrutiny to prevent money laundering and illicit financial activities. Binance, however, has reportedly been lenient in verifying the identities of its users in China.\n",
    "\n",
    "Binance was founded in Shanghai in July 2017. Soon after, in September 2017, China banned crypto initial coin offerings (ICOs) and blocked Binane's website. In 2021, China's central bank declared all crypto-related transactions illegal, resulting in a widespread ban. But Binance assisted Chinese users in bypassing restrictions by directing them to visit various websites with Chinese domain names before redirecting them to its main website, the WSJ reported, citing an internal document laying out the procedure. This internal document circulated within Binance before the 2021 ban, but after China blocked the exchange’s website in 2017. \n",
    "\n",
    "Binance did not immediately respond to The Block's request for comment. A company spokesperson told the WSJ that the Binance.com website is blocked in China and is not accessible to China-based users, without commenting further\"\"\"\n",
    "encoded_input = tokenizer(crypto, return_tensors='pt') "
   ]
  },
  {
   "cell_type": "code",
   "execution_count": 4,
   "id": "9385817c",
   "metadata": {},
   "outputs": [
    {
     "name": "stderr",
     "output_type": "stream",
     "text": [
      "WARNING[XFORMERS]: xFormers can't load C++/CUDA extensions. xFormers was built for:\n",
      "    PyTorch 2.0.1+cu118 with CUDA 1108 (you have 2.0.1+cpu)\n",
      "    Python  3.10.11 (you have 3.10.1)\n",
      "  Please reinstall xformers (see https://github.com/facebookresearch/xformers#installing-xformers)\n",
      "  Memory-efficient attention, SwiGLU, sparse and more won't be available.\n",
      "  Set XFORMERS_MORE_DETAILS=1 for more details\n"
     ]
    },
    {
     "data": {
      "text/plain": [
       "[{'label': 'LABEL_1', 'score': 0.529667317867279}]"
      ]
     },
     "execution_count": 4,
     "metadata": {},
     "output_type": "execute_result"
    }
   ],
   "source": [
    "classifier = pipeline('sentiment-analysis', model=model, tokenizer=tokenizer)\n",
    "result = classifier(crypto)\n",
    "result"
   ]
  },
  {
   "cell_type": "code",
   "execution_count": 5,
   "id": "df9a289a",
   "metadata": {},
   "outputs": [],
   "source": [
    "def analyze_sentiment_and_generate_response(input_text):\n",
    "    classifier = pipeline('sentiment-analysis', model=model, tokenizer=tokenizer)\n",
    "    result = classifier(input_text)[0]\n",
    "\n",
    "    # Sentiment labels for 'positive' and 'negative'\n",
    "    positive_label = 'LABEL_1'\n",
    "    negative_label = 'LABEL_0'\n",
    "\n",
    "    if result['label'] == positive_label:\n",
    "        response = \"Pump the market! 🚀\"\n",
    "    else:\n",
    "        response = \"Market down! 📉\"\n",
    "\n",
    "    return response"
   ]
  },
  {
   "cell_type": "code",
   "execution_count": 6,
   "id": "52174f72",
   "metadata": {},
   "outputs": [],
   "source": [
    "response = analyze_sentiment_and_generate_response(crypto)"
   ]
  },
  {
   "cell_type": "code",
   "execution_count": 7,
   "id": "f7d495e4",
   "metadata": {},
   "outputs": [
    {
     "name": "stdout",
     "output_type": "stream",
     "text": [
      "Response: Pump the market! 🚀\n"
     ]
    }
   ],
   "source": [
    "print(\"Response:\", response)"
   ]
  },
  {
   "cell_type": "code",
   "execution_count": 8,
   "id": "6d4f61c6",
   "metadata": {},
   "outputs": [],
   "source": [
    "unput=\"\"\"Tesla buys $1.5 billion in bitcoin, plans to accept it as payment Tesla\n",
    "announced Monday it has bought $1.5 billion worth of bitcoin.In a filing with the Securities and Exchange Commission, the company said it bought the bitcoin for “more flexibility to further diversify and maximize returns on our cash.”Tesla also said it will start accepting payments in bitcoin in exchange for its products “subject to applicable laws and initially on a limited basis.” That would make Tesla the first major automaker to do so. The $1.5 billion worth of bitcoin will give Tesla liquidity in the cryptocurrency once it starts accepting it for payments.Tesla’s move into bitcoin represents an investment of a significant percentage of its cash in the investment. The company had more than $19 billion in cash and cash equivalents on hand at the end of 2020, according to its most recent filing.The moves raise questions around CEO Elon Musk’s recent behavior on Twitter, where he has been credited for increasing the prices of cryptocurrencies like bitcoin and dogecoin by posting positive messages that have encouraged more people to buy the digital currencies.Two weeks ago, the billionaire Tesla\n",
    "owned added the hashtag #bitcoin to his Twitter bio, a move that helped to briefly push up the price of the cryptocurrency by as much as 20%. Two days later, he said on the social medial chat site Clubhouse: “I do at this point think bitcoin is a good thing, and I am a supporter of bitcoin.”\"\"\""
   ]
  },
  {
   "cell_type": "code",
   "execution_count": 9,
   "id": "174668d2",
   "metadata": {},
   "outputs": [],
   "source": [
    "res=analyze_sentiment_and_generate_response(unput)"
   ]
  },
  {
   "cell_type": "code",
   "execution_count": 10,
   "id": "f6ebff45",
   "metadata": {},
   "outputs": [
    {
     "name": "stdout",
     "output_type": "stream",
     "text": [
      "Response: Pump the market! 🚀\n"
     ]
    }
   ],
   "source": [
    "print(\"Response:\", res)"
   ]
  },
  {
   "cell_type": "code",
   "execution_count": 11,
   "id": "2494ab90",
   "metadata": {},
   "outputs": [
    {
     "data": {
      "text/plain": [
       "[{'label': 'LABEL_1', 'score': 0.519991397857666}]"
      ]
     },
     "execution_count": 11,
     "metadata": {},
     "output_type": "execute_result"
    }
   ],
   "source": [
    "result1=classifier(unput)\n",
    "result1"
   ]
  },
  {
   "cell_type": "code",
   "execution_count": null,
   "id": "851412ca",
   "metadata": {},
   "outputs": [],
   "source": [
    "put=\"America has banning the crypto all of currencies in his coun\""
   ]
  }
 ],
 "metadata": {
  "kernelspec": {
   "display_name": "Python 3 (ipykernel)",
   "language": "python",
   "name": "python3"
  },
  "language_info": {
   "codemirror_mode": {
    "name": "ipython",
    "version": 3
   },
   "file_extension": ".py",
   "mimetype": "text/x-python",
   "name": "python",
   "nbconvert_exporter": "python",
   "pygments_lexer": "ipython3",
   "version": "3.10.1"
  }
 },
 "nbformat": 4,
 "nbformat_minor": 5
}
