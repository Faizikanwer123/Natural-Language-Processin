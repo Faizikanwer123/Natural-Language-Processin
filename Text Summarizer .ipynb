{
 "cells": [
  {
   "cell_type": "code",
   "execution_count": 1,
   "id": "1b71ab6e",
   "metadata": {},
   "outputs": [
    {
     "name": "stderr",
     "output_type": "stream",
     "text": [
      "C:\\Users\\Faraz\\AppData\\Local\\Programs\\Python\\Python310\\lib\\site-packages\\scipy\\__init__.py:146: UserWarning: A NumPy version >=1.16.5 and <1.23.0 is required for this version of SciPy (detected version 1.25.2\n",
      "  warnings.warn(f\"A NumPy version >={np_minversion} and <{np_maxversion}\"\n"
     ]
    }
   ],
   "source": [
    "import numpy as np\n",
    "from transformers import pipeline"
   ]
  },
  {
   "cell_type": "code",
   "execution_count": 2,
   "id": "94339f0e",
   "metadata": {},
   "outputs": [],
   "source": [
    "def text_summarizer(text, ratio=0.2):\n",
    "    summarizer = pipeline(\"summarization\")\n",
    "    summarized_text = summarizer(text, max_length=int(len(text)*ratio), min_length=10, do_sample=False)\n",
    "    return summarized_text[0]['summary_text']"
   ]
  },
  {
   "cell_type": "code",
   "execution_count": 3,
   "id": "8cc39775",
   "metadata": {},
   "outputs": [],
   "source": [
    "unput=\"\"\"Binance had 5.6 million China-based users as of May, of which 911,650 were active, according to Mission Control. Overall, the crypto exchange has a total of over 128 million users. As of January, the WSJ said about 100,000 Chinese users at Binance were classified as \"politically exposed persons\" (PEPs), citing internal company documents and a former employee. PEPs are individuals who hold influential positions in government offices or have close associations with such individuals. Traditional financial institutions often subject PEPs to enhanced scrutiny to prevent money laundering and illicit financial activities. Binance, however, has reportedly been lenient in verifying the identities of its users in China.\n",
    "\n",
    "Binance was founded in Shanghai in July 2017. Soon after, in September 2017, China banned crypto initial coin offerings (ICOs) and blocked Binane's website. In 2021, China's central bank declared all crypto-related transactions illegal, resulting in a widespread ban. But Binance assisted Chinese users in bypassing restrictions by directing them to visit various websites with Chinese domain names before redirecting them to its main website, the WSJ reported, citing an internal document laying out the procedure. This internal document circulated within Binance before the 2021 ban, but after China blocked the exchange’s website in 2017. \n",
    "\n",
    "Binance did not immediately respond to The Block's request for comment. A company spokesperson told the WSJ that the Binance.com website is blocked in China and is not accessible to China-based users, without commenting further.\n",
    "\n",
    "\"\"\""
   ]
  },
  {
   "cell_type": "code",
   "execution_count": 4,
   "id": "e6f7e453",
   "metadata": {},
   "outputs": [
    {
     "name": "stderr",
     "output_type": "stream",
     "text": [
      "No model was supplied, defaulted to sshleifer/distilbart-cnn-12-6 and revision a4f8f3e (https://huggingface.co/sshleifer/distilbart-cnn-12-6).\n",
      "Using a pipeline without specifying a model name and revision in production is not recommended.\n"
     ]
    },
    {
     "name": "stdout",
     "output_type": "stream",
     "text": [
      " Binance had 5.6 million China-based users as of May, of which 911,650 were active . WSJ: 100,000 Chinese users at Binance classified as \"politically exposed persons\" (PEPs) Binance has reportedly been lenient in verifying the identities of its users in China .\n"
     ]
    }
   ],
   "source": [
    "text2=text_summarizer(unput, ratio=0.2)\n",
    "print(text2)"
   ]
  }
 ],
 "metadata": {
  "kernelspec": {
   "display_name": "Python 3 (ipykernel)",
   "language": "python",
   "name": "python3"
  },
  "language_info": {
   "codemirror_mode": {
    "name": "ipython",
    "version": 3
   },
   "file_extension": ".py",
   "mimetype": "text/x-python",
   "name": "python",
   "nbconvert_exporter": "python",
   "pygments_lexer": "ipython3",
   "version": "3.10.1"
  }
 },
 "nbformat": 4,
 "nbformat_minor": 5
}
