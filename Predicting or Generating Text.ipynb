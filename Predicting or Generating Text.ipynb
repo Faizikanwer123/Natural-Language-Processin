{
 "cells": [
  {
   "cell_type": "code",
   "execution_count": 1,
   "id": "bf643834",
   "metadata": {},
   "outputs": [
    {
     "name": "stderr",
     "output_type": "stream",
     "text": [
      "C:\\Users\\Faraz\\AppData\\Local\\Programs\\Python\\Python310\\lib\\site-packages\\scipy\\__init__.py:146: UserWarning: A NumPy version >=1.16.5 and <1.23.0 is required for this version of SciPy (detected version 1.25.2\n",
      "  warnings.warn(f\"A NumPy version >={np_minversion} and <{np_maxversion}\"\n"
     ]
    }
   ],
   "source": [
    "from transformers import pipeline, AutoModelForCausalLM, AutoTokenizer"
   ]
  },
  {
   "cell_type": "code",
   "execution_count": 2,
   "id": "36a6f866",
   "metadata": {},
   "outputs": [],
   "source": [
    "model_name = \"gpt2\"\n",
    "model = AutoModelForCausalLM.from_pretrained(model_name)\n",
    "tokenizer = AutoTokenizer.from_pretrained(model_name)"
   ]
  },
  {
   "cell_type": "code",
   "execution_count": 3,
   "id": "aff6f471",
   "metadata": {},
   "outputs": [],
   "source": [
    "# Function to generate text\n",
    "def generate_text(text, max_length=50):\n",
    "    generator = pipeline('text-generation', model=model, tokenizer=tokenizer)\n",
    "    generated_text = generator(text, max_length=max_length, do_sample=True)[0]['generated_text']\n",
    "    return generated_text"
   ]
  },
  {
   "cell_type": "code",
   "execution_count": 4,
   "id": "d5a3bc4b",
   "metadata": {},
   "outputs": [],
   "source": [
    "prompt_text = \"Once upon a time, in a land far away\""
   ]
  },
  {
   "cell_type": "code",
   "execution_count": 5,
   "id": "9e47e027",
   "metadata": {},
   "outputs": [
    {
     "name": "stderr",
     "output_type": "stream",
     "text": [
      "WARNING[XFORMERS]: xFormers can't load C++/CUDA extensions. xFormers was built for:\n",
      "    PyTorch 2.0.1+cu118 with CUDA 1108 (you have 2.0.1+cpu)\n",
      "    Python  3.10.11 (you have 3.10.1)\n",
      "  Please reinstall xformers (see https://github.com/facebookresearch/xformers#installing-xformers)\n",
      "  Memory-efficient attention, SwiGLU, sparse and more won't be available.\n",
      "  Set XFORMERS_MORE_DETAILS=1 for more details\n",
      "Setting `pad_token_id` to `eos_token_id`:50256 for open-end generation.\n"
     ]
    }
   ],
   "source": [
    "generated_text = generate_text(prompt_text, max_length=100)"
   ]
  },
  {
   "cell_type": "code",
   "execution_count": 6,
   "id": "a8ff1e78",
   "metadata": {},
   "outputs": [
    {
     "name": "stdout",
     "output_type": "stream",
     "text": [
      "Generated Text: Once upon a time, in a land far away, a king, or a royal family of knights, had risen up, having conquered the whole world, and had put before all the people all the things that can be done in a kingdom's existence, having established the kingdom itself in its own right. With this was taken the name of King of the East, as it was put down by the king of Persia. And though his own kingdom was not in some sense the rule that was made by\n"
     ]
    }
   ],
   "source": [
    "print(\"Generated Text:\", generated_text)"
   ]
  },
  {
   "cell_type": "code",
   "execution_count": 7,
   "id": "ee4c4377",
   "metadata": {},
   "outputs": [],
   "source": [
    "unput=\"Hey my name is charles and i am very professional in mechanical field\""
   ]
  },
  {
   "cell_type": "code",
   "execution_count": 8,
   "id": "a7e73da2",
   "metadata": {},
   "outputs": [
    {
     "name": "stderr",
     "output_type": "stream",
     "text": [
      "Setting `pad_token_id` to `eos_token_id`:50256 for open-end generation.\n"
     ]
    },
    {
     "data": {
      "text/plain": [
       "'Hey my name is charles and i am very professional in mechanical field. My first year it was 8. I don\\'t wanna let this slide though - i wanted to try out a new model because of my age and I had no way of actually playing with a newer one. My second year in a similar style it was 2 years and 6 hours from beginning to end and after 2 months of play the game went really bad at a high level. I wanted to try a new one, so we ended up buying 2 different sets of this game which we have sold in the past. We wanted my first game to not be so crappy, because the game takes place in a different country where you are allowed to just fly about or go by ship for fun. If you want to buy a game without much fun, and like many people I do have, I\\'m going for something that\\'s going to play well and that has a good story or that I can play with people that I have a lot of respect for.\\n\\n\\nAnd finally, in the end, I bought this game because a few years ago this game was basically the perfect version of the game I bought in 1991 at the same time, on price of $2.99, which means there was no point buying this game if you were already scared of the unknown, so I bought it because I always wanted to be one of the best players on the planet. So I sold it for $10 at a great price, so this was a good game to come here with a lot of memories.\\n\\n\\nI know you are going to find a lot of things here and so I\\'ll just point it out here but I hope you get my message (thanks for listening) ;) and for any curious game, here is what I heard at the end of the year at the BBSK.\\n\\n1. \"When will it be over?\" I got my first idea about what my next game would be about when I played the first time I sold the game the most, and at first it looked like an easy game to put on and have fun with, but I also realized that the rules in that game were terrible and the story was only just starting again. So I went through all that and ended up selling almost all the games again for a little less than a dollar. I want my next game to be even better and more interesting and more satisfying. If you ever want to play with someone you Warning: If anything goes wrong with your computer it may break out at any time, so please watch what other people say when you\\'re trying to start up your game. Sometimes it\\'s not really that hard at all. And when you get the idea that something goes wrong or something is wrong with your computer or whatever, no matter how much you try, it\\'s still going to play. And for this reason, if you ever have any problems, don\\'t hesitate to call us or we would love to help you. We have a whole range of tech support you can come and meet with you.\\n\\n\\nSo here is how you can help:\\n\\n1. Have fun... The more fun you have the better your game is.\\n\\n\\n2. Be the player that likes you, feel you like, and enjoy the game.\\n\\n\\n3. Let other people like you too.\\n\\n\\n4. Let others feel like you love you too.\\n\\n\\n5. Let friends like you too. (Don\\'t let others say no, please!)\\n\\n\\n6. Feel like you are \"right\" and you liked what you saw or heard about what you saw. This is fine, but we do need to make sure the game does not get any worse unless you are just doing the best that it can and when you sell your game, you still get a cool cool game. We\\'d love to hear from you guys out there too. Thanks for being patient.\\n\\nHey guys,Here is what I got for myself:1. I got my first idea about what my next game would be about when I sold the game the most, and at first it looked like an easy game to put on and have fun with, but also realized that the rules in that game were terrible and the story was only just starting again. So I went through all that and ended up selling almost all the games again for a little less than a dollar. I want my next game to be even better and more interesting and more satisfying. If you ever want to play with someone you should look into this site\\n\\nWhat would you like to see out of your next game?\\n\\n-A-\\n\\nFollow me on Twitter- @MyStuffGame\\n\\nLike us on Facebook - www.facebook.com/littlestuffgame and follow me on @LittleStuffGame on Twitter- http://www.facebook.com/LittleStuffGame'"
      ]
     },
     "execution_count": 8,
     "metadata": {},
     "output_type": "execute_result"
    }
   ],
   "source": [
    "gnerate=generate_text(unput,max_length=1000)\n",
    "gnerate"
   ]
  },
  {
   "cell_type": "code",
   "execution_count": null,
   "id": "515654fc",
   "metadata": {},
   "outputs": [],
   "source": []
  }
 ],
 "metadata": {
  "kernelspec": {
   "display_name": "Python 3 (ipykernel)",
   "language": "python",
   "name": "python3"
  },
  "language_info": {
   "codemirror_mode": {
    "name": "ipython",
    "version": 3
   },
   "file_extension": ".py",
   "mimetype": "text/x-python",
   "name": "python",
   "nbconvert_exporter": "python",
   "pygments_lexer": "ipython3",
   "version": "3.10.1"
  }
 },
 "nbformat": 4,
 "nbformat_minor": 5
}
